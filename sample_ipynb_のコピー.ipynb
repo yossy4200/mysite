{
  "nbformat": 4,
  "nbformat_minor": 5,
  "metadata": {
    "kernelspec": {
      "display_name": "Python 3",
      "language": "python",
      "name": "python3"
    },
    "language_info": {
      "codemirror_mode": {
        "name": "ipython",
        "version": 3
      },
      "file_extension": ".py",
      "mimetype": "text/x-python",
      "name": "python",
      "nbconvert_exporter": "python",
      "pygments_lexer": "ipython3",
      "version": "3.9.1"
    },
    "colab": {
      "name": "sample.ipynb のコピー",
      "provenance": [],
      "include_colab_link": true
    }
  },
  "cells": [
    {
      "cell_type": "markdown",
      "metadata": {
        "id": "view-in-github",
        "colab_type": "text"
      },
      "source": [
        "<a href=\"https://colab.research.google.com/github/yossy4200/mysite/blob/master/sample_ipynb_%E3%81%AE%E3%82%B3%E3%83%94%E3%83%BC.ipynb\" target=\"_parent\"><img src=\"https://colab.research.google.com/assets/colab-badge.svg\" alt=\"Open In Colab\"/></a>"
      ]
    },
    {
      "cell_type": "code",
      "metadata": {
        "id": "elegant-invasion"
      },
      "source": [
        "import pandas as pd\n",
        "from glob import glob"
      ],
      "id": "elegant-invasion",
      "execution_count": null,
      "outputs": []
    },
    {
      "cell_type": "code",
      "metadata": {
        "id": "killing-hydrogen",
        "outputId": "a217c7cd-7f9c-43c9-d47b-07f72d669164"
      },
      "source": [
        "filepaths_order = glob('sources/order_new/order*.xlsx')\n",
        "filepaths_order"
      ],
      "id": "killing-hydrogen",
      "execution_count": null,
      "outputs": [
        {
          "output_type": "execute_result",
          "data": {
            "text/plain": [
              "['sources/order_new/order_C_20210203.xlsx',\n",
              " 'sources/order_new/order_D_20210203.xlsx',\n",
              " 'sources/order_new/order_A_20210203.xlsx',\n",
              " 'sources/order_new/order_B_20210203.xlsx']"
            ]
          },
          "metadata": {
            "tags": []
          },
          "execution_count": 2
        }
      ]
    },
    {
      "cell_type": "code",
      "metadata": {
        "id": "owned-operator",
        "outputId": "a51c1313-e856-48fa-ea0d-87985b4bade5"
      },
      "source": [
        "filepath = filepaths_order[0]\n",
        "filepath"
      ],
      "id": "owned-operator",
      "execution_count": null,
      "outputs": [
        {
          "output_type": "execute_result",
          "data": {
            "text/plain": [
              "'sources/order_new/order_C_20210203.xlsx'"
            ]
          },
          "metadata": {
            "tags": []
          },
          "execution_count": 4
        }
      ]
    },
    {
      "cell_type": "code",
      "metadata": {
        "id": "efficient-pledge",
        "outputId": "9f62c794-d293-4a6f-f33e-e9162ccf5056"
      },
      "source": [
        "df_order = pd.read_excel(filepath)\n",
        "df_order"
      ],
      "id": "efficient-pledge",
      "execution_count": null,
      "outputs": [
        {
          "output_type": "execute_result",
          "data": {
            "text/html": [
              "<div>\n",
              "<style scoped>\n",
              "    .dataframe tbody tr th:only-of-type {\n",
              "        vertical-align: middle;\n",
              "    }\n",
              "\n",
              "    .dataframe tbody tr th {\n",
              "        vertical-align: top;\n",
              "    }\n",
              "\n",
              "    .dataframe thead th {\n",
              "        text-align: right;\n",
              "    }\n",
              "</style>\n",
              "<table border=\"1\" class=\"dataframe\">\n",
              "  <thead>\n",
              "    <tr style=\"text-align: right;\">\n",
              "      <th></th>\n",
              "      <th>焼酎</th>\n",
              "      <th>白ワイン</th>\n",
              "      <th>ブランデー</th>\n",
              "    </tr>\n",
              "  </thead>\n",
              "  <tbody>\n",
              "    <tr>\n",
              "      <th>0</th>\n",
              "      <td>8</td>\n",
              "      <td>18</td>\n",
              "      <td>2</td>\n",
              "    </tr>\n",
              "  </tbody>\n",
              "</table>\n",
              "</div>"
            ],
            "text/plain": [
              "   焼酎  白ワイン  ブランデー\n",
              "0   8    18      2"
            ]
          },
          "metadata": {
            "tags": []
          },
          "execution_count": 5
        }
      ]
    },
    {
      "cell_type": "code",
      "metadata": {
        "id": "solved-coordinate",
        "outputId": "f49aa688-25c6-40d7-f3c9-5598ea8cdb94"
      },
      "source": [
        "df_order.to_dict().items()"
      ],
      "id": "solved-coordinate",
      "execution_count": null,
      "outputs": [
        {
          "output_type": "execute_result",
          "data": {
            "text/plain": [
              "dict_items([('焼酎', {0: 8}), ('白ワイン', {0: 18}), ('ブランデー', {0: 2})])"
            ]
          },
          "metadata": {
            "tags": []
          },
          "execution_count": 7
        }
      ]
    },
    {
      "cell_type": "code",
      "metadata": {
        "id": "secondary-dominican"
      },
      "source": [
        "from collections import defaultdict"
      ],
      "id": "secondary-dominican",
      "execution_count": null,
      "outputs": []
    },
    {
      "cell_type": "code",
      "metadata": {
        "id": "paperback-mayor"
      },
      "source": [
        "order = defaultdict(int)"
      ],
      "id": "paperback-mayor",
      "execution_count": null,
      "outputs": []
    },
    {
      "cell_type": "code",
      "metadata": {
        "id": "trained-oakland",
        "outputId": "f5f1a2ac-27bd-43d7-ef98-d3cbc1aa01bf"
      },
      "source": [
        "for key, value in df_order.to_dict().items():\n",
        "    order[key] += value[0]\n",
        "    print(value[0])"
      ],
      "id": "trained-oakland",
      "execution_count": null,
      "outputs": [
        {
          "output_type": "stream",
          "text": [
            "8\n",
            "18\n",
            "2\n"
          ],
          "name": "stdout"
        }
      ]
    },
    {
      "cell_type": "code",
      "metadata": {
        "id": "resident-raleigh",
        "outputId": "eb25cdac-c8ae-4ff3-b666-03222438792f"
      },
      "source": [
        "order"
      ],
      "id": "resident-raleigh",
      "execution_count": null,
      "outputs": [
        {
          "output_type": "execute_result",
          "data": {
            "text/plain": [
              "defaultdict(int, {'焼酎': 8, '白ワイン': 18, 'ブランデー': 2})"
            ]
          },
          "metadata": {
            "tags": []
          },
          "execution_count": 22
        }
      ]
    },
    {
      "cell_type": "code",
      "metadata": {
        "id": "composite-income",
        "outputId": "786cd629-d5ed-465c-e50f-3b6b99e34edb"
      },
      "source": [
        "filepath = filepaths_order[1]\n",
        "df_order = pd.read_excel(filepath)\n",
        "df_order"
      ],
      "id": "composite-income",
      "execution_count": null,
      "outputs": [
        {
          "output_type": "execute_result",
          "data": {
            "text/html": [
              "<div>\n",
              "<style scoped>\n",
              "    .dataframe tbody tr th:only-of-type {\n",
              "        vertical-align: middle;\n",
              "    }\n",
              "\n",
              "    .dataframe tbody tr th {\n",
              "        vertical-align: top;\n",
              "    }\n",
              "\n",
              "    .dataframe thead th {\n",
              "        text-align: right;\n",
              "    }\n",
              "</style>\n",
              "<table border=\"1\" class=\"dataframe\">\n",
              "  <thead>\n",
              "    <tr style=\"text-align: right;\">\n",
              "      <th></th>\n",
              "      <th>焼酎</th>\n",
              "      <th>赤ワイン</th>\n",
              "      <th>白ワイン</th>\n",
              "    </tr>\n",
              "  </thead>\n",
              "  <tbody>\n",
              "    <tr>\n",
              "      <th>0</th>\n",
              "      <td>3</td>\n",
              "      <td>4</td>\n",
              "      <td>6</td>\n",
              "    </tr>\n",
              "  </tbody>\n",
              "</table>\n",
              "</div>"
            ],
            "text/plain": [
              "   焼酎  赤ワイン  白ワイン\n",
              "0   3     4     6"
            ]
          },
          "metadata": {
            "tags": []
          },
          "execution_count": 24
        }
      ]
    },
    {
      "cell_type": "code",
      "metadata": {
        "id": "logical-beads",
        "outputId": "0cd724df-fec2-4f79-df85-ee03cb5112cb"
      },
      "source": [
        "for key, value in df_order.to_dict().items():\n",
        "    order[key] += value[0]"
      ],
      "id": "logical-beads",
      "execution_count": null,
      "outputs": [
        {
          "output_type": "stream",
          "text": [
            "3\n",
            "4\n",
            "6\n"
          ],
          "name": "stdout"
        }
      ]
    },
    {
      "cell_type": "code",
      "metadata": {
        "id": "received-hazard",
        "outputId": "6d9954f2-8448-4828-8773-0b03aa408d37"
      },
      "source": [
        "order"
      ],
      "id": "received-hazard",
      "execution_count": null,
      "outputs": [
        {
          "output_type": "execute_result",
          "data": {
            "text/plain": [
              "defaultdict(int, {'焼酎': 11, '白ワイン': 24, 'ブランデー': 2, '赤ワイン': 4})"
            ]
          },
          "metadata": {
            "tags": []
          },
          "execution_count": 26
        }
      ]
    },
    {
      "cell_type": "code",
      "metadata": {
        "id": "discrete-studio"
      },
      "source": [
        "import os\n",
        "import shutil"
      ],
      "id": "discrete-studio",
      "execution_count": null,
      "outputs": []
    },
    {
      "cell_type": "code",
      "metadata": {
        "id": "stopped-guatemala",
        "outputId": "fc4072f5-bcbd-42ae-c9d1-c78787498a9f"
      },
      "source": [
        "os.listdir('sources/order_new/')"
      ],
      "id": "stopped-guatemala",
      "execution_count": null,
      "outputs": [
        {
          "output_type": "execute_result",
          "data": {
            "text/plain": [
              "['order_C_20210203.xlsx',\n",
              " 'order_D_20210203.xlsx',\n",
              " 'order_A_20210203.xlsx',\n",
              " 'order_B_20210203.xlsx']"
            ]
          },
          "metadata": {
            "tags": []
          },
          "execution_count": 28
        }
      ]
    },
    {
      "cell_type": "code",
      "metadata": {
        "id": "fabulous-radius",
        "outputId": "a296b75e-80c5-490f-9ced-d56f6b7a7a6a"
      },
      "source": [
        "os.listdir('sources/order_old/')"
      ],
      "id": "fabulous-radius",
      "execution_count": null,
      "outputs": [
        {
          "output_type": "execute_result",
          "data": {
            "text/plain": [
              "['.DS_Store']"
            ]
          },
          "metadata": {
            "tags": []
          },
          "execution_count": 29
        }
      ]
    },
    {
      "cell_type": "code",
      "metadata": {
        "id": "significant-inquiry",
        "outputId": "3f5b2e71-e2ad-445d-a860-3b3ec6546f30"
      },
      "source": [
        "filepath = filepaths_order[0]\n",
        "shutil.move(filepath, 'sources/order_old/')"
      ],
      "id": "significant-inquiry",
      "execution_count": null,
      "outputs": [
        {
          "output_type": "execute_result",
          "data": {
            "text/plain": [
              "'sources/order_old/order_C_20210203.xlsx'"
            ]
          },
          "metadata": {
            "tags": []
          },
          "execution_count": 32
        }
      ]
    },
    {
      "cell_type": "code",
      "metadata": {
        "id": "worse-hazard"
      },
      "source": [
        "def update_order(order, filepath):\n",
        "    # 注文表読み込み\n",
        "    df_order = pd.read_excel(filepath)\n",
        "    for key, value in df_order.to_dict().items():\n",
        "        order[key] += value[0]\n",
        "    # ファイルの移動\n",
        "    shutil.move(filepath, 'sources/order_old/')\n",
        "    return order"
      ],
      "id": "worse-hazard",
      "execution_count": null,
      "outputs": []
    },
    {
      "cell_type": "code",
      "metadata": {
        "id": "sitting-quebec"
      },
      "source": [
        "order = defaultdict(int)\n",
        "\n",
        "for filepath in filepaths_order:\n",
        "    order = update_order(order, filepath)"
      ],
      "id": "sitting-quebec",
      "execution_count": null,
      "outputs": []
    },
    {
      "cell_type": "code",
      "metadata": {
        "id": "synthetic-fourth",
        "outputId": "05a8f79a-fafc-4902-8750-ebc7085ea68a"
      },
      "source": [
        "order"
      ],
      "id": "synthetic-fourth",
      "execution_count": null,
      "outputs": [
        {
          "output_type": "execute_result",
          "data": {
            "text/plain": [
              "defaultdict(int,\n",
              "            {'焼酎': 16.0,\n",
              "             '白ワイン': 54.0,\n",
              "             'ブランデー': 2,\n",
              "             '赤ワイン': 4,\n",
              "             'ウィスキー': 7.0,\n",
              "             '缶チューハイ': 23,\n",
              "             'Unnamed: 3': nan,\n",
              "             'Unnamed: 4': nan,\n",
              "             'Unnamed: 5': nan,\n",
              "             'Unnamed: 6': nan,\n",
              "             'Unnamed: 7': nan,\n",
              "             'Unnamed: 8': nan})"
            ]
          },
          "metadata": {
            "tags": []
          },
          "execution_count": 47
        }
      ]
    },
    {
      "cell_type": "code",
      "metadata": {
        "id": "positive-daughter",
        "outputId": "075f2737-b8c4-46f4-9cf5-7352b18288fe"
      },
      "source": [
        "filepath_stock = 'sources/stock.xlsx'\n",
        "df_stock = pd.read_excel(filepath_stock)\n",
        "\n",
        "df_stock.tail(3)"
      ],
      "id": "positive-daughter",
      "execution_count": null,
      "outputs": [
        {
          "output_type": "execute_result",
          "data": {
            "text/html": [
              "<div>\n",
              "<style scoped>\n",
              "    .dataframe tbody tr th:only-of-type {\n",
              "        vertical-align: middle;\n",
              "    }\n",
              "\n",
              "    .dataframe tbody tr th {\n",
              "        vertical-align: top;\n",
              "    }\n",
              "\n",
              "    .dataframe thead th {\n",
              "        text-align: right;\n",
              "    }\n",
              "</style>\n",
              "<table border=\"1\" class=\"dataframe\">\n",
              "  <thead>\n",
              "    <tr style=\"text-align: right;\">\n",
              "      <th></th>\n",
              "      <th>日付</th>\n",
              "      <th>曜日</th>\n",
              "      <th>日本酒</th>\n",
              "      <th>焼酎</th>\n",
              "      <th>赤ワイン</th>\n",
              "      <th>白ワイン</th>\n",
              "      <th>ウィスキー</th>\n",
              "      <th>ブランデー</th>\n",
              "      <th>缶チューハイ</th>\n",
              "    </tr>\n",
              "  </thead>\n",
              "  <tbody>\n",
              "    <tr>\n",
              "      <th>10</th>\n",
              "      <td>2021-02-04</td>\n",
              "      <td>Thu</td>\n",
              "      <td>99</td>\n",
              "      <td>66</td>\n",
              "      <td>77</td>\n",
              "      <td>107</td>\n",
              "      <td>31</td>\n",
              "      <td>37</td>\n",
              "      <td>149</td>\n",
              "    </tr>\n",
              "    <tr>\n",
              "      <th>11</th>\n",
              "      <td>2021-02-05</td>\n",
              "      <td>Fri</td>\n",
              "      <td>78</td>\n",
              "      <td>62</td>\n",
              "      <td>55</td>\n",
              "      <td>92</td>\n",
              "      <td>41</td>\n",
              "      <td>30</td>\n",
              "      <td>121</td>\n",
              "    </tr>\n",
              "    <tr>\n",
              "      <th>12</th>\n",
              "      <td>2021-02-06</td>\n",
              "      <td>Sat</td>\n",
              "      <td>66</td>\n",
              "      <td>48</td>\n",
              "      <td>38</td>\n",
              "      <td>70</td>\n",
              "      <td>31</td>\n",
              "      <td>18</td>\n",
              "      <td>98</td>\n",
              "    </tr>\n",
              "  </tbody>\n",
              "</table>\n",
              "</div>"
            ],
            "text/plain": [
              "           日付   曜日  日本酒  焼酎  赤ワイン  白ワイン  ウィスキー  ブランデー  缶チューハイ\n",
              "10 2021-02-04  Thu   99  66    77   107     31     37     149\n",
              "11 2021-02-05  Fri   78  62    55    92     41     30     121\n",
              "12 2021-02-06  Sat   66  48    38    70     31     18      98"
            ]
          },
          "metadata": {
            "tags": []
          },
          "execution_count": 48
        }
      ]
    },
    {
      "cell_type": "code",
      "metadata": {
        "id": "regulation-dominican",
        "outputId": "757a6d03-2120-41a5-83e4-92122c525ec8"
      },
      "source": [
        "pd.DataFrame([[10, 4, 6]])"
      ],
      "id": "regulation-dominican",
      "execution_count": null,
      "outputs": [
        {
          "output_type": "execute_result",
          "data": {
            "text/html": [
              "<div>\n",
              "<style scoped>\n",
              "    .dataframe tbody tr th:only-of-type {\n",
              "        vertical-align: middle;\n",
              "    }\n",
              "\n",
              "    .dataframe tbody tr th {\n",
              "        vertical-align: top;\n",
              "    }\n",
              "\n",
              "    .dataframe thead th {\n",
              "        text-align: right;\n",
              "    }\n",
              "</style>\n",
              "<table border=\"1\" class=\"dataframe\">\n",
              "  <thead>\n",
              "    <tr style=\"text-align: right;\">\n",
              "      <th></th>\n",
              "      <th>0</th>\n",
              "      <th>1</th>\n",
              "      <th>2</th>\n",
              "    </tr>\n",
              "  </thead>\n",
              "  <tbody>\n",
              "    <tr>\n",
              "      <th>0</th>\n",
              "      <td>10</td>\n",
              "      <td>4</td>\n",
              "      <td>6</td>\n",
              "    </tr>\n",
              "  </tbody>\n",
              "</table>\n",
              "</div>"
            ],
            "text/plain": [
              "    0  1  2\n",
              "0  10  4  6"
            ]
          },
          "metadata": {
            "tags": []
          },
          "execution_count": 49
        }
      ]
    },
    {
      "cell_type": "code",
      "metadata": {
        "id": "incorrect-integrity",
        "outputId": "f0a8c82c-6944-4798-e43d-21da42d661f9"
      },
      "source": [
        "pd.DataFrame([[5, 1, 10]])"
      ],
      "id": "incorrect-integrity",
      "execution_count": null,
      "outputs": [
        {
          "output_type": "execute_result",
          "data": {
            "text/html": [
              "<div>\n",
              "<style scoped>\n",
              "    .dataframe tbody tr th:only-of-type {\n",
              "        vertical-align: middle;\n",
              "    }\n",
              "\n",
              "    .dataframe tbody tr th {\n",
              "        vertical-align: top;\n",
              "    }\n",
              "\n",
              "    .dataframe thead th {\n",
              "        text-align: right;\n",
              "    }\n",
              "</style>\n",
              "<table border=\"1\" class=\"dataframe\">\n",
              "  <thead>\n",
              "    <tr style=\"text-align: right;\">\n",
              "      <th></th>\n",
              "      <th>0</th>\n",
              "      <th>1</th>\n",
              "      <th>2</th>\n",
              "    </tr>\n",
              "  </thead>\n",
              "  <tbody>\n",
              "    <tr>\n",
              "      <th>0</th>\n",
              "      <td>5</td>\n",
              "      <td>1</td>\n",
              "      <td>10</td>\n",
              "    </tr>\n",
              "  </tbody>\n",
              "</table>\n",
              "</div>"
            ],
            "text/plain": [
              "   0  1   2\n",
              "0  5  1  10"
            ]
          },
          "metadata": {
            "tags": []
          },
          "execution_count": 50
        }
      ]
    },
    {
      "cell_type": "code",
      "metadata": {
        "id": "selective-campbell",
        "outputId": "ade2987b-2f3b-43cc-9092-42abe6ac3310"
      },
      "source": [
        "pd.DataFrame([[10, 4, 6]]) - pd.DataFrame([[5, 1, 10]])"
      ],
      "id": "selective-campbell",
      "execution_count": null,
      "outputs": [
        {
          "output_type": "execute_result",
          "data": {
            "text/html": [
              "<div>\n",
              "<style scoped>\n",
              "    .dataframe tbody tr th:only-of-type {\n",
              "        vertical-align: middle;\n",
              "    }\n",
              "\n",
              "    .dataframe tbody tr th {\n",
              "        vertical-align: top;\n",
              "    }\n",
              "\n",
              "    .dataframe thead th {\n",
              "        text-align: right;\n",
              "    }\n",
              "</style>\n",
              "<table border=\"1\" class=\"dataframe\">\n",
              "  <thead>\n",
              "    <tr style=\"text-align: right;\">\n",
              "      <th></th>\n",
              "      <th>0</th>\n",
              "      <th>1</th>\n",
              "      <th>2</th>\n",
              "    </tr>\n",
              "  </thead>\n",
              "  <tbody>\n",
              "    <tr>\n",
              "      <th>0</th>\n",
              "      <td>5</td>\n",
              "      <td>3</td>\n",
              "      <td>-4</td>\n",
              "    </tr>\n",
              "  </tbody>\n",
              "</table>\n",
              "</div>"
            ],
            "text/plain": [
              "   0  1  2\n",
              "0  5  3 -4"
            ]
          },
          "metadata": {
            "tags": []
          },
          "execution_count": 51
        }
      ]
    },
    {
      "cell_type": "code",
      "metadata": {
        "id": "experimental-johns",
        "outputId": "31f70936-2963-48a2-8759-1403b28748a7"
      },
      "source": [
        "stock = df_stock.iloc[-1:, 2:]\n",
        "stock"
      ],
      "id": "experimental-johns",
      "execution_count": null,
      "outputs": [
        {
          "output_type": "execute_result",
          "data": {
            "text/html": [
              "<div>\n",
              "<style scoped>\n",
              "    .dataframe tbody tr th:only-of-type {\n",
              "        vertical-align: middle;\n",
              "    }\n",
              "\n",
              "    .dataframe tbody tr th {\n",
              "        vertical-align: top;\n",
              "    }\n",
              "\n",
              "    .dataframe thead th {\n",
              "        text-align: right;\n",
              "    }\n",
              "</style>\n",
              "<table border=\"1\" class=\"dataframe\">\n",
              "  <thead>\n",
              "    <tr style=\"text-align: right;\">\n",
              "      <th></th>\n",
              "      <th>日本酒</th>\n",
              "      <th>焼酎</th>\n",
              "      <th>赤ワイン</th>\n",
              "      <th>白ワイン</th>\n",
              "      <th>ウィスキー</th>\n",
              "      <th>ブランデー</th>\n",
              "      <th>缶チューハイ</th>\n",
              "    </tr>\n",
              "  </thead>\n",
              "  <tbody>\n",
              "    <tr>\n",
              "      <th>12</th>\n",
              "      <td>66</td>\n",
              "      <td>48</td>\n",
              "      <td>38</td>\n",
              "      <td>70</td>\n",
              "      <td>31</td>\n",
              "      <td>18</td>\n",
              "      <td>98</td>\n",
              "    </tr>\n",
              "  </tbody>\n",
              "</table>\n",
              "</div>"
            ],
            "text/plain": [
              "    日本酒  焼酎  赤ワイン  白ワイン  ウィスキー  ブランデー  缶チューハイ\n",
              "12   66  48    38    70     31     18      98"
            ]
          },
          "metadata": {
            "tags": []
          },
          "execution_count": 52
        }
      ]
    },
    {
      "cell_type": "code",
      "metadata": {
        "id": "subsequent-tackle",
        "outputId": "0bababff-f4eb-4554-83fd-9754786b5c78"
      },
      "source": [
        "order = pd.DataFrame(order, index=[0])\n",
        "order"
      ],
      "id": "subsequent-tackle",
      "execution_count": null,
      "outputs": [
        {
          "output_type": "execute_result",
          "data": {
            "text/html": [
              "<div>\n",
              "<style scoped>\n",
              "    .dataframe tbody tr th:only-of-type {\n",
              "        vertical-align: middle;\n",
              "    }\n",
              "\n",
              "    .dataframe tbody tr th {\n",
              "        vertical-align: top;\n",
              "    }\n",
              "\n",
              "    .dataframe thead th {\n",
              "        text-align: right;\n",
              "    }\n",
              "</style>\n",
              "<table border=\"1\" class=\"dataframe\">\n",
              "  <thead>\n",
              "    <tr style=\"text-align: right;\">\n",
              "      <th></th>\n",
              "      <th>焼酎</th>\n",
              "      <th>白ワイン</th>\n",
              "      <th>ブランデー</th>\n",
              "      <th>赤ワイン</th>\n",
              "      <th>ウィスキー</th>\n",
              "      <th>缶チューハイ</th>\n",
              "      <th>Unnamed: 3</th>\n",
              "      <th>Unnamed: 4</th>\n",
              "      <th>Unnamed: 5</th>\n",
              "      <th>Unnamed: 6</th>\n",
              "      <th>Unnamed: 7</th>\n",
              "      <th>Unnamed: 8</th>\n",
              "    </tr>\n",
              "  </thead>\n",
              "  <tbody>\n",
              "    <tr>\n",
              "      <th>0</th>\n",
              "      <td>16.0</td>\n",
              "      <td>54.0</td>\n",
              "      <td>2</td>\n",
              "      <td>4</td>\n",
              "      <td>7.0</td>\n",
              "      <td>23</td>\n",
              "      <td>NaN</td>\n",
              "      <td>NaN</td>\n",
              "      <td>NaN</td>\n",
              "      <td>NaN</td>\n",
              "      <td>NaN</td>\n",
              "      <td>NaN</td>\n",
              "    </tr>\n",
              "  </tbody>\n",
              "</table>\n",
              "</div>"
            ],
            "text/plain": [
              "     焼酎  白ワイン  ブランデー  赤ワイン  ウィスキー  缶チューハイ  Unnamed: 3  Unnamed: 4  Unnamed: 5  \\\n",
              "0  16.0  54.0      2     4    7.0      23         NaN         NaN         NaN   \n",
              "\n",
              "   Unnamed: 6  Unnamed: 7  Unnamed: 8  \n",
              "0         NaN         NaN         NaN  "
            ]
          },
          "metadata": {
            "tags": []
          },
          "execution_count": 54
        }
      ]
    },
    {
      "cell_type": "code",
      "metadata": {
        "id": "detected-worship"
      },
      "source": [
        "order = pd.DataFrame(order, index=[0], columns=stock.columns)"
      ],
      "id": "detected-worship",
      "execution_count": null,
      "outputs": []
    },
    {
      "cell_type": "code",
      "metadata": {
        "id": "allied-medicine",
        "outputId": "0e57e065-675e-4f09-f660-2a47bf61af5b"
      },
      "source": [
        "order"
      ],
      "id": "allied-medicine",
      "execution_count": null,
      "outputs": [
        {
          "output_type": "execute_result",
          "data": {
            "text/html": [
              "<div>\n",
              "<style scoped>\n",
              "    .dataframe tbody tr th:only-of-type {\n",
              "        vertical-align: middle;\n",
              "    }\n",
              "\n",
              "    .dataframe tbody tr th {\n",
              "        vertical-align: top;\n",
              "    }\n",
              "\n",
              "    .dataframe thead th {\n",
              "        text-align: right;\n",
              "    }\n",
              "</style>\n",
              "<table border=\"1\" class=\"dataframe\">\n",
              "  <thead>\n",
              "    <tr style=\"text-align: right;\">\n",
              "      <th></th>\n",
              "      <th>日本酒</th>\n",
              "      <th>焼酎</th>\n",
              "      <th>赤ワイン</th>\n",
              "      <th>白ワイン</th>\n",
              "      <th>ウィスキー</th>\n",
              "      <th>ブランデー</th>\n",
              "      <th>缶チューハイ</th>\n",
              "    </tr>\n",
              "  </thead>\n",
              "  <tbody>\n",
              "    <tr>\n",
              "      <th>0</th>\n",
              "      <td>NaN</td>\n",
              "      <td>16.0</td>\n",
              "      <td>4</td>\n",
              "      <td>54.0</td>\n",
              "      <td>7.0</td>\n",
              "      <td>2</td>\n",
              "      <td>23</td>\n",
              "    </tr>\n",
              "  </tbody>\n",
              "</table>\n",
              "</div>"
            ],
            "text/plain": [
              "   日本酒    焼酎  赤ワイン  白ワイン  ウィスキー  ブランデー  缶チューハイ\n",
              "0  NaN  16.0     4  54.0    7.0      2      23"
            ]
          },
          "metadata": {
            "tags": []
          },
          "execution_count": 57
        }
      ]
    },
    {
      "cell_type": "code",
      "metadata": {
        "id": "adjustable-philip",
        "outputId": "1ece11bc-3e90-4c2a-f03c-ef25c35a0fd3"
      },
      "source": [
        "order = order.fillna(0)\n",
        "order"
      ],
      "id": "adjustable-philip",
      "execution_count": null,
      "outputs": [
        {
          "output_type": "execute_result",
          "data": {
            "text/html": [
              "<div>\n",
              "<style scoped>\n",
              "    .dataframe tbody tr th:only-of-type {\n",
              "        vertical-align: middle;\n",
              "    }\n",
              "\n",
              "    .dataframe tbody tr th {\n",
              "        vertical-align: top;\n",
              "    }\n",
              "\n",
              "    .dataframe thead th {\n",
              "        text-align: right;\n",
              "    }\n",
              "</style>\n",
              "<table border=\"1\" class=\"dataframe\">\n",
              "  <thead>\n",
              "    <tr style=\"text-align: right;\">\n",
              "      <th></th>\n",
              "      <th>日本酒</th>\n",
              "      <th>焼酎</th>\n",
              "      <th>赤ワイン</th>\n",
              "      <th>白ワイン</th>\n",
              "      <th>ウィスキー</th>\n",
              "      <th>ブランデー</th>\n",
              "      <th>缶チューハイ</th>\n",
              "    </tr>\n",
              "  </thead>\n",
              "  <tbody>\n",
              "    <tr>\n",
              "      <th>0</th>\n",
              "      <td>0.0</td>\n",
              "      <td>16.0</td>\n",
              "      <td>4</td>\n",
              "      <td>54.0</td>\n",
              "      <td>7.0</td>\n",
              "      <td>2</td>\n",
              "      <td>23</td>\n",
              "    </tr>\n",
              "  </tbody>\n",
              "</table>\n",
              "</div>"
            ],
            "text/plain": [
              "   日本酒    焼酎  赤ワイン  白ワイン  ウィスキー  ブランデー  缶チューハイ\n",
              "0  0.0  16.0     4  54.0    7.0      2      23"
            ]
          },
          "metadata": {
            "tags": []
          },
          "execution_count": 58
        }
      ]
    },
    {
      "cell_type": "code",
      "metadata": {
        "id": "military-metadata",
        "outputId": "32987c4c-5ba3-4521-f27d-84c915d58c81"
      },
      "source": [
        "stock - order"
      ],
      "id": "military-metadata",
      "execution_count": null,
      "outputs": [
        {
          "output_type": "execute_result",
          "data": {
            "text/html": [
              "<div>\n",
              "<style scoped>\n",
              "    .dataframe tbody tr th:only-of-type {\n",
              "        vertical-align: middle;\n",
              "    }\n",
              "\n",
              "    .dataframe tbody tr th {\n",
              "        vertical-align: top;\n",
              "    }\n",
              "\n",
              "    .dataframe thead th {\n",
              "        text-align: right;\n",
              "    }\n",
              "</style>\n",
              "<table border=\"1\" class=\"dataframe\">\n",
              "  <thead>\n",
              "    <tr style=\"text-align: right;\">\n",
              "      <th></th>\n",
              "      <th>日本酒</th>\n",
              "      <th>焼酎</th>\n",
              "      <th>赤ワイン</th>\n",
              "      <th>白ワイン</th>\n",
              "      <th>ウィスキー</th>\n",
              "      <th>ブランデー</th>\n",
              "      <th>缶チューハイ</th>\n",
              "    </tr>\n",
              "  </thead>\n",
              "  <tbody>\n",
              "    <tr>\n",
              "      <th>0</th>\n",
              "      <td>NaN</td>\n",
              "      <td>NaN</td>\n",
              "      <td>NaN</td>\n",
              "      <td>NaN</td>\n",
              "      <td>NaN</td>\n",
              "      <td>NaN</td>\n",
              "      <td>NaN</td>\n",
              "    </tr>\n",
              "    <tr>\n",
              "      <th>12</th>\n",
              "      <td>NaN</td>\n",
              "      <td>NaN</td>\n",
              "      <td>NaN</td>\n",
              "      <td>NaN</td>\n",
              "      <td>NaN</td>\n",
              "      <td>NaN</td>\n",
              "      <td>NaN</td>\n",
              "    </tr>\n",
              "  </tbody>\n",
              "</table>\n",
              "</div>"
            ],
            "text/plain": [
              "    日本酒  焼酎  赤ワイン  白ワイン  ウィスキー  ブランデー  缶チューハイ\n",
              "0   NaN NaN   NaN   NaN    NaN    NaN     NaN\n",
              "12  NaN NaN   NaN   NaN    NaN    NaN     NaN"
            ]
          },
          "metadata": {
            "tags": []
          },
          "execution_count": 59
        }
      ]
    },
    {
      "cell_type": "code",
      "metadata": {
        "id": "determined-hammer"
      },
      "source": [
        "stock = stock.reset_index(drop=True)"
      ],
      "id": "determined-hammer",
      "execution_count": null,
      "outputs": []
    },
    {
      "cell_type": "code",
      "metadata": {
        "id": "plain-oregon",
        "outputId": "724f7309-84e9-4981-c011-286fb3806f8a"
      },
      "source": [
        "updated = stock - order\n",
        "updated"
      ],
      "id": "plain-oregon",
      "execution_count": null,
      "outputs": [
        {
          "output_type": "execute_result",
          "data": {
            "text/html": [
              "<div>\n",
              "<style scoped>\n",
              "    .dataframe tbody tr th:only-of-type {\n",
              "        vertical-align: middle;\n",
              "    }\n",
              "\n",
              "    .dataframe tbody tr th {\n",
              "        vertical-align: top;\n",
              "    }\n",
              "\n",
              "    .dataframe thead th {\n",
              "        text-align: right;\n",
              "    }\n",
              "</style>\n",
              "<table border=\"1\" class=\"dataframe\">\n",
              "  <thead>\n",
              "    <tr style=\"text-align: right;\">\n",
              "      <th></th>\n",
              "      <th>日本酒</th>\n",
              "      <th>焼酎</th>\n",
              "      <th>赤ワイン</th>\n",
              "      <th>白ワイン</th>\n",
              "      <th>ウィスキー</th>\n",
              "      <th>ブランデー</th>\n",
              "      <th>缶チューハイ</th>\n",
              "    </tr>\n",
              "  </thead>\n",
              "  <tbody>\n",
              "    <tr>\n",
              "      <th>0</th>\n",
              "      <td>66.0</td>\n",
              "      <td>32.0</td>\n",
              "      <td>34</td>\n",
              "      <td>16.0</td>\n",
              "      <td>24.0</td>\n",
              "      <td>16</td>\n",
              "      <td>75</td>\n",
              "    </tr>\n",
              "  </tbody>\n",
              "</table>\n",
              "</div>"
            ],
            "text/plain": [
              "    日本酒    焼酎  赤ワイン  白ワイン  ウィスキー  ブランデー  缶チューハイ\n",
              "0  66.0  32.0    34  16.0   24.0     16      75"
            ]
          },
          "metadata": {
            "tags": []
          },
          "execution_count": 66
        }
      ]
    },
    {
      "cell_type": "code",
      "metadata": {
        "id": "handy-recall",
        "outputId": "b7417cce-9bbb-44de-9f17-0342005565ef"
      },
      "source": [
        "filepath_master = 'sources/master.xlsx'\n",
        "df_master = pd.read_excel(filepath_master)\n",
        "df_master"
      ],
      "id": "handy-recall",
      "execution_count": null,
      "outputs": [
        {
          "output_type": "execute_result",
          "data": {
            "text/html": [
              "<div>\n",
              "<style scoped>\n",
              "    .dataframe tbody tr th:only-of-type {\n",
              "        vertical-align: middle;\n",
              "    }\n",
              "\n",
              "    .dataframe tbody tr th {\n",
              "        vertical-align: top;\n",
              "    }\n",
              "\n",
              "    .dataframe thead th {\n",
              "        text-align: right;\n",
              "    }\n",
              "</style>\n",
              "<table border=\"1\" class=\"dataframe\">\n",
              "  <thead>\n",
              "    <tr style=\"text-align: right;\">\n",
              "      <th></th>\n",
              "      <th>Unnamed: 0</th>\n",
              "      <th>日本酒</th>\n",
              "      <th>焼酎</th>\n",
              "      <th>赤ワイン</th>\n",
              "      <th>白ワイン</th>\n",
              "      <th>ウィスキー</th>\n",
              "      <th>ブランデー</th>\n",
              "      <th>缶チューハイ</th>\n",
              "    </tr>\n",
              "  </thead>\n",
              "  <tbody>\n",
              "    <tr>\n",
              "      <th>0</th>\n",
              "      <td>閾値</td>\n",
              "      <td>30</td>\n",
              "      <td>20</td>\n",
              "      <td>20</td>\n",
              "      <td>20</td>\n",
              "      <td>30</td>\n",
              "      <td>10</td>\n",
              "      <td>40</td>\n",
              "    </tr>\n",
              "    <tr>\n",
              "      <th>1</th>\n",
              "      <td>追加量</td>\n",
              "      <td>100</td>\n",
              "      <td>80</td>\n",
              "      <td>100</td>\n",
              "      <td>100</td>\n",
              "      <td>80</td>\n",
              "      <td>80</td>\n",
              "      <td>120</td>\n",
              "    </tr>\n",
              "  </tbody>\n",
              "</table>\n",
              "</div>"
            ],
            "text/plain": [
              "  Unnamed: 0  日本酒  焼酎  赤ワイン  白ワイン  ウィスキー  ブランデー  缶チューハイ\n",
              "0         閾値   30  20    20    20     30     10      40\n",
              "1        追加量  100  80   100   100     80     80     120"
            ]
          },
          "metadata": {
            "tags": []
          },
          "execution_count": 91
        }
      ]
    },
    {
      "cell_type": "code",
      "metadata": {
        "id": "cardiac-poetry",
        "outputId": "3066655b-2843-497f-d166-fe4df0c65e71"
      },
      "source": [
        "threshold = df_master.iloc[:1 , 1:]\n",
        "threshold"
      ],
      "id": "cardiac-poetry",
      "execution_count": null,
      "outputs": [
        {
          "output_type": "execute_result",
          "data": {
            "text/html": [
              "<div>\n",
              "<style scoped>\n",
              "    .dataframe tbody tr th:only-of-type {\n",
              "        vertical-align: middle;\n",
              "    }\n",
              "\n",
              "    .dataframe tbody tr th {\n",
              "        vertical-align: top;\n",
              "    }\n",
              "\n",
              "    .dataframe thead th {\n",
              "        text-align: right;\n",
              "    }\n",
              "</style>\n",
              "<table border=\"1\" class=\"dataframe\">\n",
              "  <thead>\n",
              "    <tr style=\"text-align: right;\">\n",
              "      <th></th>\n",
              "      <th>日本酒</th>\n",
              "      <th>焼酎</th>\n",
              "      <th>赤ワイン</th>\n",
              "      <th>白ワイン</th>\n",
              "      <th>ウィスキー</th>\n",
              "      <th>ブランデー</th>\n",
              "      <th>缶チューハイ</th>\n",
              "    </tr>\n",
              "  </thead>\n",
              "  <tbody>\n",
              "    <tr>\n",
              "      <th>0</th>\n",
              "      <td>30</td>\n",
              "      <td>20</td>\n",
              "      <td>20</td>\n",
              "      <td>20</td>\n",
              "      <td>30</td>\n",
              "      <td>10</td>\n",
              "      <td>40</td>\n",
              "    </tr>\n",
              "  </tbody>\n",
              "</table>\n",
              "</div>"
            ],
            "text/plain": [
              "   日本酒  焼酎  赤ワイン  白ワイン  ウィスキー  ブランデー  缶チューハイ\n",
              "0   30  20    20    20     30     10      40"
            ]
          },
          "metadata": {
            "tags": []
          },
          "execution_count": 94
        }
      ]
    },
    {
      "cell_type": "code",
      "metadata": {
        "id": "operational-driving",
        "outputId": "49056ecf-7a56-4f94-d51e-3f9c06d73017"
      },
      "source": [
        "updated"
      ],
      "id": "operational-driving",
      "execution_count": null,
      "outputs": [
        {
          "output_type": "execute_result",
          "data": {
            "text/html": [
              "<div>\n",
              "<style scoped>\n",
              "    .dataframe tbody tr th:only-of-type {\n",
              "        vertical-align: middle;\n",
              "    }\n",
              "\n",
              "    .dataframe tbody tr th {\n",
              "        vertical-align: top;\n",
              "    }\n",
              "\n",
              "    .dataframe thead th {\n",
              "        text-align: right;\n",
              "    }\n",
              "</style>\n",
              "<table border=\"1\" class=\"dataframe\">\n",
              "  <thead>\n",
              "    <tr style=\"text-align: right;\">\n",
              "      <th></th>\n",
              "      <th>日本酒</th>\n",
              "      <th>焼酎</th>\n",
              "      <th>赤ワイン</th>\n",
              "      <th>白ワイン</th>\n",
              "      <th>ウィスキー</th>\n",
              "      <th>ブランデー</th>\n",
              "      <th>缶チューハイ</th>\n",
              "    </tr>\n",
              "  </thead>\n",
              "  <tbody>\n",
              "    <tr>\n",
              "      <th>0</th>\n",
              "      <td>66.0</td>\n",
              "      <td>32.0</td>\n",
              "      <td>34</td>\n",
              "      <td>16.0</td>\n",
              "      <td>24.0</td>\n",
              "      <td>16</td>\n",
              "      <td>75</td>\n",
              "    </tr>\n",
              "  </tbody>\n",
              "</table>\n",
              "</div>"
            ],
            "text/plain": [
              "    日本酒    焼酎  赤ワイン  白ワイン  ウィスキー  ブランデー  缶チューハイ\n",
              "0  66.0  32.0    34  16.0   24.0     16      75"
            ]
          },
          "metadata": {
            "tags": []
          },
          "execution_count": 96
        }
      ]
    },
    {
      "cell_type": "code",
      "metadata": {
        "id": "grand-imperial",
        "outputId": "907590a3-e018-4df2-8358-2e78fa207f6c"
      },
      "source": [
        "shortage_columns = updated[updated < threshold].dropna(axis=1).columns\n",
        "shortage_columns"
      ],
      "id": "grand-imperial",
      "execution_count": null,
      "outputs": [
        {
          "output_type": "execute_result",
          "data": {
            "text/plain": [
              "Index(['白ワイン', 'ウィスキー'], dtype='object')"
            ]
          },
          "metadata": {
            "tags": []
          },
          "execution_count": 101
        }
      ]
    },
    {
      "cell_type": "code",
      "metadata": {
        "id": "innocent-hammer",
        "outputId": "5fb69909-cdd8-4db2-8033-8129d98e777f"
      },
      "source": [
        "df_shortage = df_master.iloc[1:, 1:][shortage_columns]\n",
        "df_shortage"
      ],
      "id": "innocent-hammer",
      "execution_count": null,
      "outputs": [
        {
          "output_type": "execute_result",
          "data": {
            "text/html": [
              "<div>\n",
              "<style scoped>\n",
              "    .dataframe tbody tr th:only-of-type {\n",
              "        vertical-align: middle;\n",
              "    }\n",
              "\n",
              "    .dataframe tbody tr th {\n",
              "        vertical-align: top;\n",
              "    }\n",
              "\n",
              "    .dataframe thead th {\n",
              "        text-align: right;\n",
              "    }\n",
              "</style>\n",
              "<table border=\"1\" class=\"dataframe\">\n",
              "  <thead>\n",
              "    <tr style=\"text-align: right;\">\n",
              "      <th></th>\n",
              "      <th>白ワイン</th>\n",
              "      <th>ウィスキー</th>\n",
              "    </tr>\n",
              "  </thead>\n",
              "  <tbody>\n",
              "    <tr>\n",
              "      <th>1</th>\n",
              "      <td>100</td>\n",
              "      <td>80</td>\n",
              "    </tr>\n",
              "  </tbody>\n",
              "</table>\n",
              "</div>"
            ],
            "text/plain": [
              "   白ワイン  ウィスキー\n",
              "1   100     80"
            ]
          },
          "metadata": {
            "tags": []
          },
          "execution_count": 105
        }
      ]
    },
    {
      "cell_type": "code",
      "metadata": {
        "id": "northern-nowhere"
      },
      "source": [
        "order_text = ''\n",
        "\n",
        "for key, value in df_shortage.to_dict().items():\n",
        "    order_text += f'{key}を{value[1]}本、'"
      ],
      "id": "northern-nowhere",
      "execution_count": null,
      "outputs": []
    },
    {
      "cell_type": "code",
      "metadata": {
        "id": "aging-vatican",
        "outputId": "cdf8446f-004f-4c44-8d2c-f0b580cec07c"
      },
      "source": [
        "order_text"
      ],
      "id": "aging-vatican",
      "execution_count": null,
      "outputs": [
        {
          "output_type": "execute_result",
          "data": {
            "text/plain": [
              "'白ワインを100本、ウィスキーを80本、'"
            ]
          },
          "metadata": {
            "tags": []
          },
          "execution_count": 140
        }
      ]
    },
    {
      "cell_type": "markdown",
      "metadata": {
        "id": "registered-teaching"
      },
      "source": [
        "---\n",
        "\n",
        "下記ページでGmailのセキュリティ周りを変更  \n",
        "https://myaccount.google.com/u/2/security\n",
        "\n",
        "```json\n",
        "{\n",
        "    \"ADDRESS\": \"メールアドレス\",\n",
        "    \"PASSWORD\": \"セキュリティ画面で発行したパスワード\",    \n",
        "}\n",
        "```"
      ],
      "id": "registered-teaching"
    },
    {
      "cell_type": "code",
      "metadata": {
        "id": "nominated-cheese"
      },
      "source": [
        "import json\n",
        "with open('sources/secret.json') as f:\n",
        "    address_password = json.load(f)"
      ],
      "id": "nominated-cheese",
      "execution_count": null,
      "outputs": []
    },
    {
      "cell_type": "code",
      "metadata": {
        "id": "following-qualification"
      },
      "source": [
        "import smtplib\n",
        "from email.mime.text import MIMEText\n",
        "from email.utils import formatdate\n",
        "\n",
        "from_addr = address_password['ADDRESS']\n",
        "password = address_password['PASSWORD']\n",
        "\n",
        "subject = '発注依頼'\n",
        "body = f'○○さん、在庫数が足りなくなってしまったため、{order_text}発注してください。'\n",
        "to_addr = ''\n",
        "\n",
        "# SMTPサーバに接続\n",
        "smtpobj = smtplib.SMTP('smtp.gmail.com', 587)\n",
        "smtpobj.starttls()\n",
        "smtpobj.login(from_addr, password)\n",
        "\n",
        "# メッセージ（メール）の作成\n",
        "msg = MIMEText(body)\n",
        "msg['Subject'] = subject\n",
        "msg['From'] = from_addr\n",
        "msg['To'] = to_addr\n",
        "msg['Date'] = formatdate()\n",
        "\n",
        "# 作成したメールを送信\n",
        "smtpobj.send_message(msg)\n",
        "smtpobj.close()"
      ],
      "id": "following-qualification",
      "execution_count": null,
      "outputs": []
    },
    {
      "cell_type": "code",
      "metadata": {
        "id": "framed-breakdown"
      },
      "source": [
        "from datetime import date"
      ],
      "id": "framed-breakdown",
      "execution_count": null,
      "outputs": []
    },
    {
      "cell_type": "code",
      "metadata": {
        "id": "skilled-storage"
      },
      "source": [
        "today = date.today()"
      ],
      "id": "skilled-storage",
      "execution_count": null,
      "outputs": []
    },
    {
      "cell_type": "code",
      "metadata": {
        "id": "involved-offering",
        "outputId": "d3a8faef-3049-492f-f17f-2676b07c7a5d"
      },
      "source": [
        "print(today.strftime('%a'))"
      ],
      "id": "involved-offering",
      "execution_count": null,
      "outputs": [
        {
          "output_type": "stream",
          "text": [
            "Sun\n"
          ],
          "name": "stdout"
        }
      ]
    },
    {
      "cell_type": "code",
      "metadata": {
        "id": "proved-breathing"
      },
      "source": [
        "updated['日付'] = today\n",
        "updated['曜日'] = today.strftime('%a')"
      ],
      "id": "proved-breathing",
      "execution_count": null,
      "outputs": []
    },
    {
      "cell_type": "code",
      "metadata": {
        "id": "transsexual-expression",
        "outputId": "9af44131-a4fa-44c6-9cd3-406cad51155f"
      },
      "source": [
        "updated"
      ],
      "id": "transsexual-expression",
      "execution_count": null,
      "outputs": [
        {
          "output_type": "execute_result",
          "data": {
            "text/html": [
              "<div>\n",
              "<style scoped>\n",
              "    .dataframe tbody tr th:only-of-type {\n",
              "        vertical-align: middle;\n",
              "    }\n",
              "\n",
              "    .dataframe tbody tr th {\n",
              "        vertical-align: top;\n",
              "    }\n",
              "\n",
              "    .dataframe thead th {\n",
              "        text-align: right;\n",
              "    }\n",
              "</style>\n",
              "<table border=\"1\" class=\"dataframe\">\n",
              "  <thead>\n",
              "    <tr style=\"text-align: right;\">\n",
              "      <th></th>\n",
              "      <th>日本酒</th>\n",
              "      <th>焼酎</th>\n",
              "      <th>赤ワイン</th>\n",
              "      <th>白ワイン</th>\n",
              "      <th>ウィスキー</th>\n",
              "      <th>ブランデー</th>\n",
              "      <th>缶チューハイ</th>\n",
              "      <th>日付</th>\n",
              "      <th>曜日</th>\n",
              "    </tr>\n",
              "  </thead>\n",
              "  <tbody>\n",
              "    <tr>\n",
              "      <th>0</th>\n",
              "      <td>66.0</td>\n",
              "      <td>32.0</td>\n",
              "      <td>34</td>\n",
              "      <td>16.0</td>\n",
              "      <td>24.0</td>\n",
              "      <td>16</td>\n",
              "      <td>75</td>\n",
              "      <td>2021-02-07</td>\n",
              "      <td>Sun</td>\n",
              "    </tr>\n",
              "  </tbody>\n",
              "</table>\n",
              "</div>"
            ],
            "text/plain": [
              "    日本酒    焼酎  赤ワイン  白ワイン  ウィスキー  ブランデー  缶チューハイ          日付   曜日\n",
              "0  66.0  32.0    34  16.0   24.0     16      75  2021-02-07  Sun"
            ]
          },
          "metadata": {
            "tags": []
          },
          "execution_count": 164
        }
      ]
    },
    {
      "cell_type": "code",
      "metadata": {
        "id": "certain-chorus"
      },
      "source": [
        "pd.concat([df_stock, updated], sort=False).reset_index(drop=True).to_excel(filepath_stock, index=False)"
      ],
      "id": "certain-chorus",
      "execution_count": null,
      "outputs": []
    },
    {
      "cell_type": "code",
      "metadata": {
        "collapsed": true,
        "jupyter": {
          "outputs_hidden": true
        },
        "id": "aggressive-consistency",
        "outputId": "754e08fc-4a23-402b-c07c-e2c2c572bd1c"
      },
      "source": [
        "pd.read_excel(filepath_stock)"
      ],
      "id": "aggressive-consistency",
      "execution_count": null,
      "outputs": [
        {
          "output_type": "execute_result",
          "data": {
            "text/html": [
              "<div>\n",
              "<style scoped>\n",
              "    .dataframe tbody tr th:only-of-type {\n",
              "        vertical-align: middle;\n",
              "    }\n",
              "\n",
              "    .dataframe tbody tr th {\n",
              "        vertical-align: top;\n",
              "    }\n",
              "\n",
              "    .dataframe thead th {\n",
              "        text-align: right;\n",
              "    }\n",
              "</style>\n",
              "<table border=\"1\" class=\"dataframe\">\n",
              "  <thead>\n",
              "    <tr style=\"text-align: right;\">\n",
              "      <th></th>\n",
              "      <th>日付</th>\n",
              "      <th>曜日</th>\n",
              "      <th>日本酒</th>\n",
              "      <th>焼酎</th>\n",
              "      <th>赤ワイン</th>\n",
              "      <th>白ワイン</th>\n",
              "      <th>ウィスキー</th>\n",
              "      <th>ブランデー</th>\n",
              "      <th>缶チューハイ</th>\n",
              "    </tr>\n",
              "  </thead>\n",
              "  <tbody>\n",
              "    <tr>\n",
              "      <th>0</th>\n",
              "      <td>2021-01-25</td>\n",
              "      <td>Mon</td>\n",
              "      <td>100</td>\n",
              "      <td>80</td>\n",
              "      <td>51</td>\n",
              "      <td>63</td>\n",
              "      <td>150</td>\n",
              "      <td>60</td>\n",
              "      <td>95</td>\n",
              "    </tr>\n",
              "    <tr>\n",
              "      <th>1</th>\n",
              "      <td>2021-01-26</td>\n",
              "      <td>Tue</td>\n",
              "      <td>88</td>\n",
              "      <td>73</td>\n",
              "      <td>35</td>\n",
              "      <td>38</td>\n",
              "      <td>130</td>\n",
              "      <td>50</td>\n",
              "      <td>82</td>\n",
              "    </tr>\n",
              "    <tr>\n",
              "      <th>2</th>\n",
              "      <td>2021-01-27</td>\n",
              "      <td>Wed</td>\n",
              "      <td>73</td>\n",
              "      <td>66</td>\n",
              "      <td>105</td>\n",
              "      <td>15</td>\n",
              "      <td>126</td>\n",
              "      <td>37</td>\n",
              "      <td>75</td>\n",
              "    </tr>\n",
              "    <tr>\n",
              "      <th>3</th>\n",
              "      <td>2021-01-28</td>\n",
              "      <td>Thu</td>\n",
              "      <td>50</td>\n",
              "      <td>55</td>\n",
              "      <td>96</td>\n",
              "      <td>123</td>\n",
              "      <td>114</td>\n",
              "      <td>27</td>\n",
              "      <td>43</td>\n",
              "    </tr>\n",
              "    <tr>\n",
              "      <th>4</th>\n",
              "      <td>2021-01-29</td>\n",
              "      <td>Fri</td>\n",
              "      <td>39</td>\n",
              "      <td>44</td>\n",
              "      <td>75</td>\n",
              "      <td>96</td>\n",
              "      <td>106</td>\n",
              "      <td>13</td>\n",
              "      <td>19</td>\n",
              "    </tr>\n",
              "    <tr>\n",
              "      <th>5</th>\n",
              "      <td>2021-01-30</td>\n",
              "      <td>Sat</td>\n",
              "      <td>25</td>\n",
              "      <td>31</td>\n",
              "      <td>64</td>\n",
              "      <td>88</td>\n",
              "      <td>98</td>\n",
              "      <td>10</td>\n",
              "      <td>117</td>\n",
              "    </tr>\n",
              "    <tr>\n",
              "      <th>6</th>\n",
              "      <td>2021-01-31</td>\n",
              "      <td>Sun</td>\n",
              "      <td>125</td>\n",
              "      <td>106</td>\n",
              "      <td>37</td>\n",
              "      <td>77</td>\n",
              "      <td>83</td>\n",
              "      <td>84</td>\n",
              "      <td>97</td>\n",
              "    </tr>\n",
              "    <tr>\n",
              "      <th>7</th>\n",
              "      <td>2021-02-01</td>\n",
              "      <td>Mon</td>\n",
              "      <td>120</td>\n",
              "      <td>96</td>\n",
              "      <td>34</td>\n",
              "      <td>50</td>\n",
              "      <td>69</td>\n",
              "      <td>75</td>\n",
              "      <td>67</td>\n",
              "    </tr>\n",
              "    <tr>\n",
              "      <th>8</th>\n",
              "      <td>2021-02-02</td>\n",
              "      <td>Tue</td>\n",
              "      <td>112</td>\n",
              "      <td>85</td>\n",
              "      <td>10</td>\n",
              "      <td>35</td>\n",
              "      <td>54</td>\n",
              "      <td>53</td>\n",
              "      <td>49</td>\n",
              "    </tr>\n",
              "    <tr>\n",
              "      <th>9</th>\n",
              "      <td>2021-02-03</td>\n",
              "      <td>Wed</td>\n",
              "      <td>103</td>\n",
              "      <td>74</td>\n",
              "      <td>90</td>\n",
              "      <td>19</td>\n",
              "      <td>41</td>\n",
              "      <td>44</td>\n",
              "      <td>12</td>\n",
              "    </tr>\n",
              "    <tr>\n",
              "      <th>10</th>\n",
              "      <td>2021-02-04</td>\n",
              "      <td>Thu</td>\n",
              "      <td>99</td>\n",
              "      <td>66</td>\n",
              "      <td>77</td>\n",
              "      <td>107</td>\n",
              "      <td>31</td>\n",
              "      <td>37</td>\n",
              "      <td>149</td>\n",
              "    </tr>\n",
              "    <tr>\n",
              "      <th>11</th>\n",
              "      <td>2021-02-05</td>\n",
              "      <td>Fri</td>\n",
              "      <td>78</td>\n",
              "      <td>62</td>\n",
              "      <td>55</td>\n",
              "      <td>92</td>\n",
              "      <td>41</td>\n",
              "      <td>30</td>\n",
              "      <td>121</td>\n",
              "    </tr>\n",
              "    <tr>\n",
              "      <th>12</th>\n",
              "      <td>2021-02-06</td>\n",
              "      <td>Sat</td>\n",
              "      <td>66</td>\n",
              "      <td>48</td>\n",
              "      <td>38</td>\n",
              "      <td>70</td>\n",
              "      <td>31</td>\n",
              "      <td>18</td>\n",
              "      <td>98</td>\n",
              "    </tr>\n",
              "    <tr>\n",
              "      <th>13</th>\n",
              "      <td>2021-02-07</td>\n",
              "      <td>Sun</td>\n",
              "      <td>66</td>\n",
              "      <td>32</td>\n",
              "      <td>34</td>\n",
              "      <td>16</td>\n",
              "      <td>24</td>\n",
              "      <td>16</td>\n",
              "      <td>75</td>\n",
              "    </tr>\n",
              "  </tbody>\n",
              "</table>\n",
              "</div>"
            ],
            "text/plain": [
              "           日付   曜日  日本酒   焼酎  赤ワイン  白ワイン  ウィスキー  ブランデー  缶チューハイ\n",
              "0  2021-01-25  Mon  100   80    51    63    150     60      95\n",
              "1  2021-01-26  Tue   88   73    35    38    130     50      82\n",
              "2  2021-01-27  Wed   73   66   105    15    126     37      75\n",
              "3  2021-01-28  Thu   50   55    96   123    114     27      43\n",
              "4  2021-01-29  Fri   39   44    75    96    106     13      19\n",
              "5  2021-01-30  Sat   25   31    64    88     98     10     117\n",
              "6  2021-01-31  Sun  125  106    37    77     83     84      97\n",
              "7  2021-02-01  Mon  120   96    34    50     69     75      67\n",
              "8  2021-02-02  Tue  112   85    10    35     54     53      49\n",
              "9  2021-02-03  Wed  103   74    90    19     41     44      12\n",
              "10 2021-02-04  Thu   99   66    77   107     31     37     149\n",
              "11 2021-02-05  Fri   78   62    55    92     41     30     121\n",
              "12 2021-02-06  Sat   66   48    38    70     31     18      98\n",
              "13 2021-02-07  Sun   66   32    34    16     24     16      75"
            ]
          },
          "metadata": {
            "tags": []
          },
          "execution_count": 168
        }
      ]
    },
    {
      "cell_type": "code",
      "metadata": {
        "id": "respective-operator"
      },
      "source": [
        "import pandas as pd\n",
        "from glob import glob\n",
        "from collections import defaultdict\n",
        "\n",
        "import os\n",
        "import shutil\n",
        "\n",
        "import json    \n",
        "import smtplib\n",
        "from email.mime.text import MIMEText\n",
        "from email.utils import formatdate\n",
        "from datetime import date\n",
        "\n",
        "# 注文表の集計\n",
        "def update_order(order, filepath):\n",
        "    # 注文表読み込み\n",
        "    df_order = pd.read_excel(filepath)\n",
        "    for key, value in df_order.to_dict().items():\n",
        "        order[key] += value[0]\n",
        "    # ファイルの移動\n",
        "    shutil.move(filepath, 'sources/order_old/')\n",
        "    return order\n",
        "\n",
        "def main():\n",
        "    print('ーーーーー開始ーーーーー')\n",
        "    # 注文情報の収集\n",
        "    print('注文情報の収集')\n",
        "    order = defaultdict(int)\n",
        "    filepaths_order = glob('sources/order_new/order*.xlsx')\n",
        "    for filepath in filepaths_order:\n",
        "        order = update_order(order, filepath)\n",
        "    print('Done')\n",
        "\n",
        "    # 最新の在庫量の確認\n",
        "    print('最新の在庫量の確認')\n",
        "    filepath_stock = 'sources/stock.xlsx'\n",
        "    df_stock = pd.read_excel(filepath_stock)\n",
        "\n",
        "    stock = df_stock.iloc[-1:, 2:]\n",
        "    stock = stock.reset_index(drop=True)\n",
        "\n",
        "    order = pd.DataFrame(order, index=[0], columns=stock.columns)\n",
        "    order = order.fillna(0)\n",
        "\n",
        "    updated = stock - order\n",
        "    print('Done')\n",
        "\n",
        "\n",
        "    # 追加注文品の算出\n",
        "    print('追加注文品の算出')\n",
        "    filepath_master = 'sources/master.xlsx'\n",
        "    df_master = pd.read_excel(filepath_master)\n",
        "\n",
        "    threshold = df_master.iloc[:1 , 1:]\n",
        "    shortage_columns = updated[updated < threshold].dropna(axis=1).columns\n",
        "\n",
        "    df_shortage = df_master.iloc[1:, 1:][shortage_columns]\n",
        "\n",
        "    order_text = ''\n",
        "    for key, value in df_shortage.to_dict().items():\n",
        "        order_text += f'{key}を{value[1]}本、'\n",
        "    print('Done')\n",
        "\n",
        "\n",
        "    # Gmailで注文\n",
        "    print('Gmailで注文')\n",
        "    with open('sources/secret.json') as f:\n",
        "        address_password = json.load(f)\n",
        "\n",
        "    from_addr = address_password['ADDRESS']\n",
        "    password = address_password['PASSWORD']\n",
        "\n",
        "    subject = '発注依頼'\n",
        "    body = f'○○さん、在庫数が足りなくなってしまったため、{order_text}発注してください。'\n",
        "    to_addr = ''\n",
        "\n",
        "    # SMTPサーバに接続\n",
        "    smtpobj = smtplib.SMTP('smtp.gmail.com', 587)\n",
        "    smtpobj.starttls()\n",
        "    smtpobj.login(from_addr, password)\n",
        "\n",
        "    # メッセージ（メール）の作成\n",
        "    msg = MIMEText(body)\n",
        "    msg['Subject'] = subject\n",
        "    msg['From'] = from_addr\n",
        "    msg['To'] = to_addr\n",
        "    msg['Date'] = formatdate()\n",
        "\n",
        "    # 作成したメールを送信\n",
        "    smtpobj.send_message(msg)\n",
        "    smtpobj.close()\n",
        "    print('Done')\n",
        "\n",
        "\n",
        "    # 在庫表の更新\n",
        "    print('在庫表の更新')\n",
        "    today = date.today()\n",
        "    updated['日付'] = today\n",
        "    updated['曜日'] = today.strftime('%a')\n",
        "\n",
        "    pd.concat([df_stock, updated], sort=False).reset_index(drop=True).to_excel(filepath_stock, index=False)\n",
        "    pd.read_excel(filepath_stock)\n",
        "    print('ーーーーー終了ーーーーー')\n",
        "\n",
        "if __name__ == '__main__':\n",
        "    main()"
      ],
      "id": "respective-operator",
      "execution_count": null,
      "outputs": []
    },
    {
      "cell_type": "code",
      "metadata": {
        "jupyter": {
          "source_hidden": true
        },
        "id": "guilty-proportion"
      },
      "source": [
        ""
      ],
      "id": "guilty-proportion",
      "execution_count": null,
      "outputs": []
    },
    {
      "cell_type": "code",
      "metadata": {
        "id": "rental-discount"
      },
      "source": [
        ""
      ],
      "id": "rental-discount",
      "execution_count": null,
      "outputs": []
    },
    {
      "cell_type": "code",
      "metadata": {
        "id": "civil-alaska"
      },
      "source": [
        ""
      ],
      "id": "civil-alaska",
      "execution_count": null,
      "outputs": []
    },
    {
      "cell_type": "code",
      "metadata": {
        "id": "welcome-texas"
      },
      "source": [
        ""
      ],
      "id": "welcome-texas",
      "execution_count": null,
      "outputs": []
    },
    {
      "cell_type": "code",
      "metadata": {
        "id": "nearby-surname"
      },
      "source": [
        ""
      ],
      "id": "nearby-surname",
      "execution_count": null,
      "outputs": []
    },
    {
      "cell_type": "code",
      "metadata": {
        "id": "digital-kennedy"
      },
      "source": [
        ""
      ],
      "id": "digital-kennedy",
      "execution_count": null,
      "outputs": []
    },
    {
      "cell_type": "code",
      "metadata": {
        "id": "checked-commons"
      },
      "source": [
        ""
      ],
      "id": "checked-commons",
      "execution_count": null,
      "outputs": []
    },
    {
      "cell_type": "code",
      "metadata": {
        "id": "roman-function"
      },
      "source": [
        ""
      ],
      "id": "roman-function",
      "execution_count": null,
      "outputs": []
    },
    {
      "cell_type": "code",
      "metadata": {
        "id": "third-hopkins"
      },
      "source": [
        ""
      ],
      "id": "third-hopkins",
      "execution_count": null,
      "outputs": []
    },
    {
      "cell_type": "code",
      "metadata": {
        "id": "prompt-collector"
      },
      "source": [
        ""
      ],
      "id": "prompt-collector",
      "execution_count": null,
      "outputs": []
    },
    {
      "cell_type": "code",
      "metadata": {
        "id": "binding-christian"
      },
      "source": [
        ""
      ],
      "id": "binding-christian",
      "execution_count": null,
      "outputs": []
    },
    {
      "cell_type": "code",
      "metadata": {
        "id": "inclusive-impossible"
      },
      "source": [
        ""
      ],
      "id": "inclusive-impossible",
      "execution_count": null,
      "outputs": []
    },
    {
      "cell_type": "code",
      "metadata": {
        "id": "single-nowhere"
      },
      "source": [
        ""
      ],
      "id": "single-nowhere",
      "execution_count": null,
      "outputs": []
    },
    {
      "cell_type": "code",
      "metadata": {
        "id": "existing-status"
      },
      "source": [
        ""
      ],
      "id": "existing-status",
      "execution_count": null,
      "outputs": []
    },
    {
      "cell_type": "code",
      "metadata": {
        "id": "planned-saying"
      },
      "source": [
        ""
      ],
      "id": "planned-saying",
      "execution_count": null,
      "outputs": []
    },
    {
      "cell_type": "code",
      "metadata": {
        "id": "express-paintball"
      },
      "source": [
        ""
      ],
      "id": "express-paintball",
      "execution_count": null,
      "outputs": []
    },
    {
      "cell_type": "code",
      "metadata": {
        "id": "alert-corpus"
      },
      "source": [
        ""
      ],
      "id": "alert-corpus",
      "execution_count": null,
      "outputs": []
    },
    {
      "cell_type": "code",
      "metadata": {
        "id": "prepared-porcelain"
      },
      "source": [
        ""
      ],
      "id": "prepared-porcelain",
      "execution_count": null,
      "outputs": []
    }
  ]
}